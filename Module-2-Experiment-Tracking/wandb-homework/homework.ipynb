{
 "cells": [
  {
   "attachments": {},
   "cell_type": "markdown",
   "metadata": {},
   "source": [
    "### Q1. Install the Package\n",
    "\n",
    "Once you installed the package, run the command wandb --version and check the output.\n",
    "\n",
    "**What's the version that you have?**"
   ]
  },
  {
   "cell_type": "code",
   "execution_count": 1,
   "metadata": {},
   "outputs": [
    {
     "name": "stdout",
     "output_type": "stream",
     "text": [
      "wandb, version 0.15.3\n"
     ]
    }
   ],
   "source": [
    "! wandb --version"
   ]
  },
  {
   "attachments": {},
   "cell_type": "markdown",
   "metadata": {},
   "source": [
    "### Q2. Download and preprocess the data\n",
    "\n",
    "We'll use the Green Taxi Trip Records dataset to predict the amount of tips for each trip.\n",
    "\n",
    "Download the data for January, February and March 2022 in parquet format from [here](https://www1.nyc.gov/site/tlc/about/tlc-trip-record-data.page).\n",
    "\n",
    "Use the script `preprocess_data.py` located in the folder homework-wandb to preprocess the data.\n",
    "\n",
    "**Once you navigate to the Files tab of your artifact on your Weights & Biases page, what's the size of the saved DictVectorizer file?**"
   ]
  },
  {
   "cell_type": "code",
   "execution_count": null,
   "metadata": {},
   "outputs": [],
   "source": [
    "! mkdir data\n",
    "! cd data && curl -O https://d37ci6vzurychx.cloudfront.net/trip-data/green_tripdata_2022-01.parquet\n",
    "! cd data && curl -O https://d37ci6vzurychx.cloudfront.net/trip-data/green_tripdata_2022-02.parquet\n",
    "! cd data && curl -O https://d37ci6vzurychx.cloudfront.net/trip-data/green_tripdata_2022-03.parquet  "
   ]
  },
  {
   "cell_type": "code",
   "execution_count": 20,
   "metadata": {},
   "outputs": [
    {
     "name": "stderr",
     "output_type": "stream",
     "text": [
      "wandb: Currently logged in as: afk-legacy. Use `wandb login --relogin` to force relogin\n",
      "wandb: Tracking run with wandb version 0.15.3\n",
      "wandb: Run data is saved locally in d:\\Dev\\projects\\MLOpsZoomcamp\\Module2\\homework-wandb\\wandb\\run-20230606_215546-86lbhwih\n",
      "wandb: Run `wandb offline` to turn off syncing.\n",
      "wandb: Syncing run dandy-sun-6\n",
      "wandb:  View project at https://wandb.ai/afk-legacy/NYC_TAXI_MODULE_2\n",
      "wandb:  View run at https://wandb.ai/afk-legacy/NYC_TAXI_MODULE_2/runs/86lbhwih\n",
      "wandb: Adding directory to artifact (.\\output)... Done. 0.0s\n"
     ]
    }
   ],
   "source": [
    "! python \"scripts\\preprocess_data.py\" \\\n",
    "  --wandb_project NYC_TAXI_MODULE_2 \\\n",
    "  --wandb_entity  afk-legacy \\\n",
    "  --raw_data_path \"data\" \\\n",
    "  --dest_path \"./output\""
   ]
  },
  {
   "attachments": {},
   "cell_type": "markdown",
   "metadata": {},
   "source": [
    "### Q3. Train a model with Weights & Biases logging\n",
    "\n",
    "We will train a RandomForestRegressor (from Scikit-Learn) on the taxi dataset.\n",
    "\n",
    "**What is the value of the max_depth parameter?**"
   ]
  },
  {
   "cell_type": "code",
   "execution_count": 27,
   "metadata": {},
   "outputs": [
    {
     "name": "stderr",
     "output_type": "stream",
     "text": [
      "wandb: Currently logged in as: afk-legacy. Use `wandb login --relogin` to force relogin\n",
      "wandb: Tracking run with wandb version 0.15.3\n",
      "wandb: Run data is saved locally in d:\\Dev\\projects\\MLOpsZoomcamp\\Module2\\homework-wandb\\wandb\\run-20230606_221618-ha3casx8\n",
      "wandb: Run `wandb offline` to turn off syncing.\n",
      "wandb: Syncing run sandy-violet-13\n",
      "wandb:  View project at https://wandb.ai/afk-legacy/NYC_TAXI_MODULE_2\n",
      "wandb:  View run at https://wandb.ai/afk-legacy/NYC_TAXI_MODULE_2/runs/ha3casx8\n",
      "wandb:   4 of 4 files downloaded.  \n"
     ]
    }
   ],
   "source": [
    "! python \"./scripts/train.py\" \\\n",
    "  --wandb_project NYC_TAXI_MODULE_2 \\\n",
    "  --wandb_entity afk-Legacy \\\n",
    "  --data_artifact \"afk-legacy/NYC_TAXI_MODULE_2/NYC-Taxi:v0\""
   ]
  },
  {
   "attachments": {},
   "cell_type": "markdown",
   "metadata": {},
   "source": [
    "### Q4. Tune model hyperparameters\n",
    "\n",
    "Now let's try to reduce the validation error by tuning the hyperparameters of the RandomForestRegressor using Weights & Biases Sweeps. We have prepared the script sweep.py for this exercise in the homework-wandb directory.\n",
    "\n",
    "Your task is to modify sweep.py to pass the parameters n_estimators, min_samples_split and min_samples_leaf from config to RandomForestRegressor inside the run_train() function. Then we will run the sweep to figure out not only the best best of hyperparameters for training our model, but also to analyze the most optimum trends in different hyperparameters."
   ]
  },
  {
   "cell_type": "code",
   "execution_count": 28,
   "metadata": {},
   "outputs": [
    {
     "name": "stdout",
     "output_type": "stream",
     "text": [
      "Create sweep with ID: bp78umeo\n",
      "Sweep URL: https://wandb.ai/afk-legacy/NYC_TAXI_MODULE_2/sweeps/bp78umeo\n"
     ]
    },
    {
     "name": "stderr",
     "output_type": "stream",
     "text": [
      "wandb: Agent Starting Run: 9i5r3czn with config:\n",
      "wandb: \tmax_depth: 5\n",
      "wandb: \tmin_samples_leaf: 4\n",
      "wandb: \tmin_samples_split: 5\n",
      "wandb: \tn_estimators: 48\n",
      "wandb: Currently logged in as: afk-legacy. Use `wandb login --relogin` to force relogin\n",
      "wandb: Tracking run with wandb version 0.15.3\n",
      "wandb: Run data is saved locally in d:\\Dev\\projects\\MLOpsZoomcamp\\Module2\\homework-wandb\\wandb\\run-20230606_222116-9i5r3czn\n",
      "wandb: Run `wandb offline` to turn off syncing.\n",
      "wandb: Syncing run stellar-sweep-1\n",
      "wandb:  View project at https://wandb.ai/afk-legacy/NYC_TAXI_MODULE_2\n",
      "wandb:  View sweep at https://wandb.ai/afk-legacy/NYC_TAXI_MODULE_2/sweeps/bp78umeo\n",
      "wandb:  View run at https://wandb.ai/afk-legacy/NYC_TAXI_MODULE_2/runs/9i5r3czn\n",
      "wandb:   4 of 4 files downloaded.  \n",
      "wandb: Waiting for W&B process to finish... (success).\n",
      "wandb: \n",
      "wandb: Run history:\n",
      "wandb: MSE ▁\n",
      "wandb: \n",
      "wandb: Run summary:\n",
      "wandb: MSE 2.4607\n",
      "wandb: \n",
      "wandb:  View run stellar-sweep-1 at: https://wandb.ai/afk-legacy/NYC_TAXI_MODULE_2/runs/9i5r3czn\n",
      "wandb: Synced 5 W&B file(s), 0 media file(s), 1 artifact file(s) and 0 other file(s)\n",
      "wandb: Find logs at: .\\wandb\\run-20230606_222116-9i5r3czn\\logs\n",
      "wandb: Agent Starting Run: whuvrfj5 with config:\n",
      "wandb: \tmax_depth: 12\n",
      "wandb: \tmin_samples_leaf: 3\n",
      "wandb: \tmin_samples_split: 5\n",
      "wandb: \tn_estimators: 13\n",
      "wandb: Tracking run with wandb version 0.15.3\n",
      "wandb: Run data is saved locally in d:\\Dev\\projects\\MLOpsZoomcamp\\Module2\\homework-wandb\\wandb\\run-20230606_222148-whuvrfj5\n",
      "wandb: Run `wandb offline` to turn off syncing.\n",
      "wandb: Syncing run frosty-sweep-2\n",
      "wandb:  View project at https://wandb.ai/afk-legacy/NYC_TAXI_MODULE_2\n",
      "wandb:  View sweep at https://wandb.ai/afk-legacy/NYC_TAXI_MODULE_2/sweeps/bp78umeo\n",
      "wandb:  View run at https://wandb.ai/afk-legacy/NYC_TAXI_MODULE_2/runs/whuvrfj5\n",
      "wandb:   4 of 4 files downloaded.  \n",
      "wandb: Waiting for W&B process to finish... (success).\n",
      "wandb: \n",
      "wandb: Run history:\n",
      "wandb: MSE ▁\n",
      "wandb: \n",
      "wandb: Run summary:\n",
      "wandb: MSE 2.45314\n",
      "wandb: \n",
      "wandb:  View run frosty-sweep-2 at: https://wandb.ai/afk-legacy/NYC_TAXI_MODULE_2/runs/whuvrfj5\n",
      "wandb: Synced 5 W&B file(s), 0 media file(s), 1 artifact file(s) and 0 other file(s)\n",
      "wandb: Find logs at: .\\wandb\\run-20230606_222148-whuvrfj5\\logs\n",
      "wandb: Agent Starting Run: 6681mcxv with config:\n",
      "wandb: \tmax_depth: 1\n",
      "wandb: \tmin_samples_leaf: 3\n",
      "wandb: \tmin_samples_split: 5\n",
      "wandb: \tn_estimators: 18\n",
      "wandb: Tracking run with wandb version 0.15.3\n",
      "wandb: Run data is saved locally in d:\\Dev\\projects\\MLOpsZoomcamp\\Module2\\homework-wandb\\wandb\\run-20230606_222232-6681mcxv\n",
      "wandb: Run `wandb offline` to turn off syncing.\n",
      "wandb: Syncing run vibrant-sweep-3\n",
      "wandb:  View project at https://wandb.ai/afk-legacy/NYC_TAXI_MODULE_2\n",
      "wandb:  View sweep at https://wandb.ai/afk-legacy/NYC_TAXI_MODULE_2/sweeps/bp78umeo\n",
      "wandb:  View run at https://wandb.ai/afk-legacy/NYC_TAXI_MODULE_2/runs/6681mcxv\n",
      "wandb:   4 of 4 files downloaded.  \n",
      "wandb: Waiting for W&B process to finish... (success).\n",
      "wandb: \n",
      "wandb: Run history:\n",
      "wandb: MSE ▁\n",
      "wandb: \n",
      "wandb: Run summary:\n",
      "wandb: MSE 2.53937\n",
      "wandb: \n",
      "wandb:  View run vibrant-sweep-3 at: https://wandb.ai/afk-legacy/NYC_TAXI_MODULE_2/runs/6681mcxv\n",
      "wandb: Synced 5 W&B file(s), 0 media file(s), 1 artifact file(s) and 0 other file(s)\n",
      "wandb: Find logs at: .\\wandb\\run-20230606_222232-6681mcxv\\logs\n",
      "wandb: Agent Starting Run: n9u7msr6 with config:\n",
      "wandb: \tmax_depth: 3\n",
      "wandb: \tmin_samples_leaf: 3\n",
      "wandb: \tmin_samples_split: 3\n",
      "wandb: \tn_estimators: 43\n",
      "wandb: Tracking run with wandb version 0.15.3\n",
      "wandb: Run data is saved locally in d:\\Dev\\projects\\MLOpsZoomcamp\\Module2\\homework-wandb\\wandb\\run-20230606_222253-n9u7msr6\n",
      "wandb: Run `wandb offline` to turn off syncing.\n",
      "wandb: Syncing run usual-sweep-4\n",
      "wandb:  View project at https://wandb.ai/afk-legacy/NYC_TAXI_MODULE_2\n",
      "wandb:  View sweep at https://wandb.ai/afk-legacy/NYC_TAXI_MODULE_2/sweeps/bp78umeo\n",
      "wandb:  View run at https://wandb.ai/afk-legacy/NYC_TAXI_MODULE_2/runs/n9u7msr6\n",
      "wandb:   4 of 4 files downloaded.  \n",
      "wandb: Waiting for W&B process to finish... (success).\n",
      "wandb: \n",
      "wandb: Run history:\n",
      "wandb: MSE ▁\n",
      "wandb: \n",
      "wandb: Run summary:\n",
      "wandb: MSE 2.4743\n",
      "wandb: \n",
      "wandb:  View run usual-sweep-4 at: https://wandb.ai/afk-legacy/NYC_TAXI_MODULE_2/runs/n9u7msr6\n",
      "wandb: Synced 5 W&B file(s), 0 media file(s), 1 artifact file(s) and 0 other file(s)\n",
      "wandb: Find logs at: .\\wandb\\run-20230606_222253-n9u7msr6\\logs\n",
      "wandb: Agent Starting Run: oovoww6e with config:\n",
      "wandb: \tmax_depth: 12\n",
      "wandb: \tmin_samples_leaf: 3\n",
      "wandb: \tmin_samples_split: 5\n",
      "wandb: \tn_estimators: 14\n",
      "wandb: Tracking run with wandb version 0.15.3\n",
      "wandb: Run data is saved locally in d:\\Dev\\projects\\MLOpsZoomcamp\\Module2\\homework-wandb\\wandb\\run-20230606_222315-oovoww6e\n",
      "wandb: Run `wandb offline` to turn off syncing.\n",
      "wandb: Syncing run olive-sweep-5\n",
      "wandb:  View project at https://wandb.ai/afk-legacy/NYC_TAXI_MODULE_2\n",
      "wandb:  View sweep at https://wandb.ai/afk-legacy/NYC_TAXI_MODULE_2/sweeps/bp78umeo\n",
      "wandb:  View run at https://wandb.ai/afk-legacy/NYC_TAXI_MODULE_2/runs/oovoww6e\n",
      "wandb:   4 of 4 files downloaded.  \n",
      "wandb: Waiting for W&B process to finish... (success).\n",
      "wandb: \n",
      "wandb: Run history:\n",
      "wandb: MSE ▁\n",
      "wandb: \n",
      "wandb: Run summary:\n",
      "wandb: MSE 2.45314\n",
      "wandb: \n",
      "wandb:  View run olive-sweep-5 at: https://wandb.ai/afk-legacy/NYC_TAXI_MODULE_2/runs/oovoww6e\n",
      "wandb: Synced 5 W&B file(s), 0 media file(s), 1 artifact file(s) and 0 other file(s)\n",
      "wandb: Find logs at: .\\wandb\\run-20230606_222315-oovoww6e\\logs\n"
     ]
    }
   ],
   "source": [
    "! python \"./scripts/sweep.py\" \\\n",
    "  --wandb_project NYC_TAXI_MODULE_2 \\\n",
    "  --wandb_entity afk-Legacy \\\n",
    "  --data_artifact \"afk-legacy/NYC_TAXI_MODULE_2/NYC-Taxi:v0\""
   ]
  },
  {
   "attachments": {},
   "cell_type": "markdown",
   "metadata": {},
   "source": [
    "### Q5. Link the best model to the model registry\n",
    "\n",
    "Now that we have obtained the optimal set of hyperparameters and trained the best model, we can assume that we are ready to test some of these models in production. In this exercise, you'll create a model registry and link the best model from the Sweep to the model registry.\n",
    "\n",
    "First, you will need to create a Registered Model to hold all the candidate models for your particular modeling task. You can refer to this section of the official docs to learn how to create a registered model using the Weights & Biases UI.\n",
    "\n",
    "Once you have created the Registered Model successfully, you can navigate to the best run of your sweep, navigate to the model artifact created by the particular run, and click on the Link to Registry option from the UI. This would link the model artifact to the Registered Model. You can choose to add some suitable aliases for the Registered Model, such as production, best, etc.\n",
    "\n",
    "Now that the model artifact is linked to the Registered Model, which of these information do we see on the Registered Model UI?\n",
    "\n",
    "+ Versioning\n",
    "+ Metadata\n",
    "+ Aliases\n",
    "+ Metric (MSE)\n",
    "+ Source run\n",
    "+ All of these\n",
    "+ None of these\n"
   ]
  }
 ],
 "metadata": {
  "kernelspec": {
   "display_name": ".venv",
   "language": "python",
   "name": "python3"
  },
  "language_info": {
   "codemirror_mode": {
    "name": "ipython",
    "version": 3
   },
   "file_extension": ".py",
   "mimetype": "text/x-python",
   "name": "python",
   "nbconvert_exporter": "python",
   "pygments_lexer": "ipython3",
   "version": "3.9.0"
  },
  "orig_nbformat": 4
 },
 "nbformat": 4,
 "nbformat_minor": 2
}
